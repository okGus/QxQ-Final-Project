{
  "nbformat": 4,
  "nbformat_minor": 0,
  "metadata": {
    "colab": {
      "provenance": []
    },
    "kernelspec": {
      "name": "python3",
      "display_name": "Python 3"
    },
    "language_info": {
      "name": "python"
    }
  },
  "cells": [
    {
      "cell_type": "code",
      "source": [
        "!pip install cirq --quiet\n",
        "import cirq\n",
        "\n",
        "from random import choices, getrandbits"
      ],
      "metadata": {
        "id": "yg37scc4VIhO"
      },
      "execution_count": null,
      "outputs": []
    },
    {
      "cell_type": "code",
      "source": [
        "def alice_phase(num_bits, encode_gates, basis_gates, qubits):\n",
        "  \"\"\"PHASE 1 - ALICE SENDS\"\"\"\n",
        "\n",
        "  # Step #1\n",
        "  # Alice randomly picks bits\n",
        "  alice_key = choices([0, 1], k = num_bits)\n",
        "\n",
        "  # print('Alice\\'s initial key: ', alice_key)\n",
        "\n",
        "  # Step #2\n",
        "  # Alice randomly picks bases\n",
        "  alice_bases = choices(['Z', 'X'], k = num_bits)\n",
        "\n",
        "  # print('\\nAlice\\'s randomly chosen bases: ', alice_bases)\n",
        "\n",
        "  # Step #3\n",
        "  # Alice Converts bits to qubits\n",
        "  alice_circuit = cirq.Circuit()\n",
        "\n",
        "  for bit in range(num_bits):\n",
        "\n",
        "    encode_value = alice_key[bit]\n",
        "    encode_gate = encode_gates[encode_value]\n",
        "\n",
        "    basis_value = alice_bases[bit]\n",
        "    basis_gate = basis_gates[basis_value]\n",
        "\n",
        "    qubit = qubits[bit]\n",
        "    alice_circuit.append(basis_gate(qubit))\n",
        "    alice_circuit.append(encode_gate(qubit))\n",
        "    # alice_circuit.append(basis_gate(qubit))\n",
        "\n",
        "  # print('\\nAlice\\'s Phase 1 circuit:\\n', alice_circuit)\n",
        "  return alice_circuit, alice_key, alice_bases"
      ],
      "metadata": {
        "id": "Us-uy7jVg6iC"
      },
      "execution_count": null,
      "outputs": []
    },
    {
      "cell_type": "code",
      "source": [
        "def bob_phase(num_bits, basis_gates, qubits, alice_circuit):\n",
        "  \"\"\"PHASE 2 - BOB RECEIVES\"\"\"\n",
        "  # Step #4\n",
        "  # Alice sends qubits to Bob\n",
        "\n",
        "  # Step #5\n",
        "  # Bob randomly pics bases\n",
        "  bob_bases = choices(['Z', 'X'], k = num_bits)\n",
        "  # print('Bob\\'s randomly chosen bases: ', bob_bases)\n",
        "\n",
        "  bob_circuit = cirq.Circuit()\n",
        "\n",
        "  for bit in range(num_bits):\n",
        "\n",
        "    basis_value = bob_bases[bit]\n",
        "    basis_gate = basis_gates[basis_value]\n",
        "\n",
        "    qubit = qubits[bit]\n",
        "    bob_circuit.append(basis_gate(qubit))\n",
        "\n",
        "\n",
        "  # Step #6\n",
        "  # Bob measures qubits\n",
        "  bob_circuit.append(cirq.measure(qubits, key = 'bob key'))\n",
        "  # print('\\nBob\\'s Phase 2 circuit:\\n', bob_circuit)\n",
        "\n",
        "\n",
        "  # Step #7\n",
        "  # Bob converts qubits back to bits\n",
        "  bb84_circuit = alice_circuit + bob_circuit\n",
        "\n",
        "  sim = cirq.Simulator()\n",
        "  results = sim.run(bb84_circuit)\n",
        "  bob_key = results.measurements['bob key'][0]\n",
        "\n",
        "  # print('\\nBob\\'s initial key: ', list(bob_key))\n",
        "  return list(bob_key), bob_bases"
      ],
      "metadata": {
        "id": "ZOfArJU9htUd"
      },
      "execution_count": null,
      "outputs": []
    },
    {
      "cell_type": "code",
      "source": [
        "def alice_bob_compare(num_bits, alice_bases, bob_bases, alice_key, bob_key):\n",
        "  \"\"\"PHASE 3 - ALICE & BOB COMPARE\"\"\"\n",
        "\n",
        "  # Step #8\n",
        "  # Alice and Bob compare bases and bits\n",
        "  final_alice_key = []\n",
        "  final_bob_key = []\n",
        "\n",
        "  for bit in range(num_bits):\n",
        "    if alice_bases[bit] == bob_bases[bit]:\n",
        "      final_alice_key.append(alice_key[bit])\n",
        "      final_bob_key.append(bob_key[bit])\n",
        "\n",
        "  # print('\\nAlice\\'s key: ', final_alice_key)\n",
        "  # print('Bob\\'s key: ', final_bob_key)\n",
        "  if not final_alice_key:\n",
        "    return -1\n",
        "\n",
        "  # Step #9\n",
        "  # Alice and Bob create their key\n",
        "  if final_alice_key[0] == final_bob_key[0]:\n",
        "    final_alice_key = final_alice_key[1:]\n",
        "    final_bob_key = final_bob_key[1:]\n",
        "\n",
        "    if final_alice_key != final_bob_key:\n",
        "      return -1\n",
        "    else:\n",
        "      return final_bob_key\n",
        "\n",
        "  else:\n",
        "    return -1"
      ],
      "metadata": {
        "id": "2YgIrrhIirsI"
      },
      "execution_count": null,
      "outputs": []
    },
    {
      "cell_type": "code",
      "source": [
        "def generate_key(num_bits=5):\n",
        "  \"\"\"Returns final key that bob and alice can use,\n",
        "    If the keys at the end of the compare function are different then it returns -1\n",
        "    If the keys first value are not the same then return -1 meaning that eve intercepted\n",
        "\n",
        "    Uses BB84 implementation\n",
        "  \"\"\"\n",
        "  encode_gates = {0: cirq.I, 1: cirq.X}\n",
        "  basis_gates = {'Z': cirq.I, 'X': cirq.H}\n",
        "\n",
        "  qubits = cirq.NamedQubit.range(num_bits, prefix = 'q')\n",
        "\n",
        "  alice_circuit, alice_key, alice_bases = alice_phase(num_bits, encode_gates, basis_gates, qubits)\n",
        "  # print(\"Alice key: \", alice_key)\n",
        "  # print(\"ALice base:\", alice_bases)\n",
        "\n",
        "  bob_key, bob_bases = bob_phase(num_bits, basis_gates, qubits, alice_circuit)\n",
        "  # print(\"Bob key:   \", bob_key)\n",
        "  # print(\"Bob base:  \", bob_bases)\n",
        "\n",
        "  final_key = alice_bob_compare(num_bits, alice_bases, bob_bases, alice_key, bob_key)\n",
        "\n",
        "  return final_key"
      ],
      "metadata": {
        "id": "_QadRtWygXap"
      },
      "execution_count": null,
      "outputs": []
    },
    {
      "cell_type": "code",
      "source": [
        "def encrypt(string, key):\n",
        "  zipped = []\n",
        "  length = len(key)\n",
        "  for idx in range(len(string)):\n",
        "    i = string[idx]\n",
        "    j = key[idx % length]\n",
        "    zipped.append((i, j))\n",
        "\n",
        "  return \"\".join(chr(ord(i) ^ ord(j)) for (i, j) in zipped)"
      ],
      "metadata": {
        "id": "G3dPFfCKmcPP"
      },
      "execution_count": null,
      "outputs": []
    },
    {
      "cell_type": "code",
      "source": [
        "def decrypt(ciphertext, key):\n",
        "  return encrypt(ciphertext, key)"
      ],
      "metadata": {
        "id": "WV1c2Q1ZmdMB"
      },
      "execution_count": null,
      "outputs": []
    },
    {
      "cell_type": "code",
      "source": [
        "key = generate_key(num_bits=20)\n",
        "if key == -1:\n",
        "  print(\"Key's were not the same or Eve intercepted\")\n",
        "else:\n",
        "  key = ''.join(str(e) for e in key)\n",
        "  print(key)"
      ],
      "metadata": {
        "colab": {
          "base_uri": "https://localhost:8080/"
        },
        "id": "We_TMDDjeOWl",
        "outputId": "8894cb44-383f-45c5-cf3e-acec64c7fa8f"
      },
      "execution_count": null,
      "outputs": [
        {
          "output_type": "stream",
          "name": "stdout",
          "text": [
            "001000010001\n"
          ]
        }
      ]
    },
    {
      "cell_type": "code",
      "source": [
        "message = \"This message was encrypted with the help of QKD!\"\n",
        "\n",
        "encrypted_message = encrypt(message, key)\n",
        "print(encrypted_message)\n",
        "decrypted_message = decrypt(encrypted_message, key)\n",
        "print(decrypted_message)"
      ],
      "metadata": {
        "colab": {
          "base_uri": "https://localhost:8080/"
        },
        "id": "qgo-s3jql1iJ",
        "outputId": "fa36a0de-01fd-4c28-9987-142672e78e33"
      },
      "execution_count": null,
      "outputs": [
        {
          "output_type": "stream",
          "name": "stdout",
          "text": [
            "dXXC\u0010]UBCQWT\u0010GPC\u0010U^RBI@EUT\u0011GYDX\u0011DXU\u0011XU]@\u0010_V\u0011a{t\u0010\n",
            "This message was encrypted with the help of QKD!\n"
          ]
        }
      ]
    }
  ]
}